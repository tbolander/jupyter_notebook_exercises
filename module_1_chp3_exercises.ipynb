{
 "cells": [
  {
   "cell_type": "markdown",
   "id": "c8389741-58a0-4e45-af9f-bab13bd68d66",
   "metadata": {},
   "source": [
    "#Chapter 3: Questions 3.1 - 3.6"
   ]
  },
  {
   "cell_type": "markdown",
   "id": "2100fac3-a1b5-4571-87fd-2806a8447f34",
   "metadata": {},
   "source": [
    "# 3.1 - sec/hr (?)"
   ]
  },
  {
   "cell_type": "code",
   "execution_count": 1,
   "id": "b4e1e17b-15a7-4700-9ac5-1a7ab40ffb85",
   "metadata": {},
   "outputs": [
    {
     "data": {
      "text/plain": [
       "3600"
      ]
     },
     "execution_count": 1,
     "metadata": {},
     "output_type": "execute_result"
    }
   ],
   "source": [
    "60 * 60"
   ]
  },
  {
   "cell_type": "markdown",
   "id": "9645fd4b-eca9-456c-a00c-bd20cdd94634",
   "metadata": {},
   "source": [
    "# 3.2 - assign sec/hr to variable"
   ]
  },
  {
   "cell_type": "code",
   "execution_count": 3,
   "id": "15169e9d-9398-485f-b475-1376b6657e4b",
   "metadata": {},
   "outputs": [
    {
     "data": {
      "text/plain": [
       "3600"
      ]
     },
     "execution_count": 3,
     "metadata": {},
     "output_type": "execute_result"
    }
   ],
   "source": [
    "seconds_hr = 60 * 60\n",
    "seconds_hr"
   ]
  },
  {
   "cell_type": "markdown",
   "id": "0f41445d-a49c-494e-8b43-302cce2d806d",
   "metadata": {},
   "source": [
    "# 3.3 - sec/day (?)"
   ]
  },
  {
   "cell_type": "code",
   "execution_count": 4,
   "id": "3e9d1736-93d0-4fc7-9205-9c0625df361f",
   "metadata": {},
   "outputs": [
    {
     "data": {
      "text/plain": [
       "86400"
      ]
     },
     "execution_count": 4,
     "metadata": {},
     "output_type": "execute_result"
    }
   ],
   "source": [
    "seconds_day = seconds_hr * 24\n",
    "seconds_day"
   ]
  },
  {
   "cell_type": "markdown",
   "id": "4759c14b-b8a2-4985-a462-2ea9e12c3551",
   "metadata": {},
   "source": [
    "# 3.4 - calculate sec/day again, but assign to variable seconds_per_day"
   ]
  },
  {
   "cell_type": "code",
   "execution_count": 7,
   "id": "27cfe14f-1524-4d8c-956d-7194b73474b9",
   "metadata": {},
   "outputs": [
    {
     "data": {
      "text/plain": [
       "86400"
      ]
     },
     "execution_count": 7,
     "metadata": {},
     "output_type": "execute_result"
    }
   ],
   "source": [
    "seconds_per_day = seconds_day\n",
    "seconds_per_day"
   ]
  },
  {
   "cell_type": "markdown",
   "id": "dfd1e8d6-6dbd-418b-b5a3-43209b9612b7",
   "metadata": {},
   "source": [
    "# 3.5 - divide sec/day by sec/hr (floating-point division)"
   ]
  },
  {
   "cell_type": "code",
   "execution_count": 9,
   "id": "3dee1398-5138-4035-9b9d-ec01ccad2903",
   "metadata": {},
   "outputs": [
    {
     "data": {
      "text/plain": [
       "24.0"
      ]
     },
     "execution_count": 9,
     "metadata": {},
     "output_type": "execute_result"
    }
   ],
   "source": [
    "seconds_day / seconds_hr"
   ]
  },
  {
   "cell_type": "markdown",
   "id": "83cb4ef5-9ce6-474f-b6b7-7a582639907d",
   "metadata": {},
   "source": [
    "# 3.6 - divide sec/day by sec/hr (integer division)"
   ]
  },
  {
   "cell_type": "code",
   "execution_count": 10,
   "id": "19325cf4-24a9-4a96-86a1-85618b767beb",
   "metadata": {},
   "outputs": [
    {
     "data": {
      "text/plain": [
       "24"
      ]
     },
     "execution_count": 10,
     "metadata": {},
     "output_type": "execute_result"
    }
   ],
   "source": [
    "seconds_day // seconds_hr"
   ]
  },
  {
   "cell_type": "markdown",
   "id": "6a014540-210f-44a0-80bf-b1c11d32768c",
   "metadata": {},
   "source": [
    "# Yes, it agreed with the floating point value question. The same answer but one is a float value."
   ]
  }
 ],
 "metadata": {
  "kernelspec": {
   "display_name": "Python 3 (ipykernel)",
   "language": "python",
   "name": "python3"
  },
  "language_info": {
   "codemirror_mode": {
    "name": "ipython",
    "version": 3
   },
   "file_extension": ".py",
   "mimetype": "text/x-python",
   "name": "python",
   "nbconvert_exporter": "python",
   "pygments_lexer": "ipython3",
   "version": "3.13.1"
  }
 },
 "nbformat": 4,
 "nbformat_minor": 5
}
