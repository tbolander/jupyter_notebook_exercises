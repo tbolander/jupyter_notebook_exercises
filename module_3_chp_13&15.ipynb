{
 "cells": [
  {
   "cell_type": "markdown",
   "id": "b06e6437-3e52-4d20-b4ec-de08eda39aee",
   "metadata": {},
   "source": [
    "13.1: Write the current date as a string to the text file `today.txt`.  "
   ]
  },
  {
   "cell_type": "code",
   "execution_count": 1,
   "id": "606f722b-1506-477a-bdcc-5cd22e4ba677",
   "metadata": {},
   "outputs": [
    {
     "name": "stdout",
     "output_type": "stream",
     "text": [
      "Contents of today.txt: '2025-04-29'\n"
     ]
    }
   ],
   "source": [
    "from datetime import date\n",
    "\n",
    "today = date.today()\n",
    "with open(\"today.txt\", \"w\") as f:\n",
    "    f.write(str(today))\n",
    "\n",
    "with open(\"today.txt\") as f:\n",
    "    print(\"Contents of today.txt:\", repr(f.read()))"
   ]
  },
  {
   "cell_type": "markdown",
   "id": "20a8b720-804b-4439-8881-931d90ac7239",
   "metadata": {},
   "source": [
    "13.2: Read the text file `today.txt` into the string `today_string`."
   ]
  },
  {
   "cell_type": "code",
   "execution_count": 2,
   "id": "3a9c6c69-9b2a-444c-b2db-42a67a5ffa2f",
   "metadata": {},
   "outputs": [
    {
     "name": "stdout",
     "output_type": "stream",
     "text": [
      "today_string: 2025-04-29\n"
     ]
    }
   ],
   "source": [
    "with open(\"today.txt\") as f:\n",
    "    today_string = f.read().strip()\n",
    "\n",
    "print(\"today_string:\", today_string)"
   ]
  },
  {
   "cell_type": "markdown",
   "id": "50b2ca16-f20b-4ffb-a8a4-0330a0be7509",
   "metadata": {},
   "source": [
    "13.3: Parse the date from `today_string`."
   ]
  },
  {
   "cell_type": "code",
   "execution_count": 3,
   "id": "750a71c5-45c0-4bf9-b4c4-12a6c9c3064f",
   "metadata": {},
   "outputs": [
    {
     "name": "stdout",
     "output_type": "stream",
     "text": [
      "parsed_date (type): 2025-04-29 <class 'datetime.date'>\n"
     ]
    }
   ],
   "source": [
    "from datetime import datetime\n",
    "\n",
    "parsed_date = datetime.strptime(today_string, \"%Y-%m-%d\").date()\n",
    "\n",
    "print(\"parsed_date (type):\", parsed_date, type(parsed_date))"
   ]
  },
  {
   "cell_type": "markdown",
   "id": "3b65910a-1062-4c8c-91ce-840fbea99e33",
   "metadata": {},
   "source": [
    "15.1: Use `multiprocessing` to create three separate processes. Have each one sleep a random number of seconds between 0 and 1, then print the current time, and exit."
   ]
  },
  {
   "cell_type": "code",
   "execution_count": 5,
   "id": "9d32e196-c72d-4f71-8302-cda107b493c6",
   "metadata": {},
   "outputs": [
    {
     "name": "stdout",
     "output_type": "stream",
     "text": [
      "All processes finished!\n"
     ]
    }
   ],
   "source": [
    "import multiprocessing\n",
    "import random\n",
    "import time\n",
    "from datetime import datetime\n",
    "\n",
    "def worker(name):\n",
    "    delay = random.random()\n",
    "    time.sleep(delay)\n",
    "    print(f\"{name} ran at {datetime.now().time()} after sleeping {delay:.3f}s\")\n",
    "\n",
    "names = [\"Process-A\", \"Process-B\", \"Process-C\"]\n",
    "processes = []\n",
    "for n in names:\n",
    "    p = multiprocessing.Process(target=worker, args=(n,))\n",
    "    p.start()\n",
    "    processes.append(p)\n",
    "\n",
    "for p in processes:\n",
    "    p.join()\n",
    "\n",
    "print(\"All processes finished!\")"
   ]
  },
  {
   "cell_type": "code",
   "execution_count": null,
   "id": "cb3dcebc-66fa-416a-9c41-0cadfaca0a21",
   "metadata": {},
   "outputs": [],
   "source": []
  }
 ],
 "metadata": {
  "kernelspec": {
   "display_name": "Python 3 (ipykernel)",
   "language": "python",
   "name": "python3"
  },
  "language_info": {
   "codemirror_mode": {
    "name": "ipython",
    "version": 3
   },
   "file_extension": ".py",
   "mimetype": "text/x-python",
   "name": "python",
   "nbconvert_exporter": "python",
   "pygments_lexer": "ipython3",
   "version": "3.13.3"
  }
 },
 "nbformat": 4,
 "nbformat_minor": 5
}
