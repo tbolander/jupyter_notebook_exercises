{
 "cells": [
  {
   "cell_type": "markdown",
   "id": "fa420308-67c4-4119-9ec2-6f2d22c1d3a0",
   "metadata": {},
   "source": [
    "## Chapter 11&16:\n",
    "(11.1 - 11.2), (16.8)"
   ]
  },
  {
   "cell_type": "markdown",
   "id": "7a785358-d213-4d6b-a672-35251f1c3970",
   "metadata": {},
   "source": [
    "# 11.1: Create a file called zoo.py. In it, define a function called hours() that prints the string 'Open 9-5 daily'. import the zoo module and call its hours() function."
   ]
  },
  {
   "cell_type": "code",
   "execution_count": 1,
   "id": "a103cfa8-74e9-4938-baac-50efb9929a24",
   "metadata": {},
   "outputs": [],
   "source": [
    "with open('zoo.py', 'w') as file:\n",
    "    file.write(\"def hours():\\n    print('Open 9-5 daily')\")"
   ]
  },
  {
   "cell_type": "code",
   "execution_count": 2,
   "id": "4428da2d-aeb8-45ad-b8d6-a1c984c785b5",
   "metadata": {},
   "outputs": [
    {
     "name": "stdout",
     "output_type": "stream",
     "text": [
      "Open 9-5 daily\n"
     ]
    }
   ],
   "source": [
    "import zoo\n",
    "zoo.hours()"
   ]
  },
  {
   "cell_type": "markdown",
   "id": "0b0cba3f-8078-4e54-9a3e-cf25965b5bca",
   "metadata": {},
   "source": [
    "# 11.2: import the zoo module as menagerie and call its hours() function."
   ]
  },
  {
   "cell_type": "code",
   "execution_count": 3,
   "id": "3157ce6d-ed45-451e-9169-3c4fdfdb70f4",
   "metadata": {},
   "outputs": [
    {
     "name": "stdout",
     "output_type": "stream",
     "text": [
      "Open 9-5 daily\n"
     ]
    }
   ],
   "source": [
    "import zoo as menagerie\n",
    "menagerie.hours()"
   ]
  },
  {
   "cell_type": "markdown",
   "id": "2f34bcc3-4aa9-443c-9d11-0f202ba73390",
   "metadata": {},
   "source": [
    "# 16.4: Create `books.db` and `books` tables for 16.8"
   ]
  },
  {
   "cell_type": "code",
   "execution_count": 4,
   "id": "e94e0a60-ce70-4f9f-a59e-b34b055d2542",
   "metadata": {},
   "outputs": [],
   "source": [
    "import sqlite3\n",
    "\n",
    "# Create database and table\n",
    "conn = sqlite3.connect('books.db')\n",
    "cursor = conn.cursor()\n",
    "cursor.execute('''\n",
    "    CREATE TABLE IF NOT EXISTS books (\n",
    "        title TEXT,\n",
    "        author TEXT,\n",
    "        year INTEGER\n",
    "    )\n",
    "''')\n",
    "\n",
    "# Insert 16.3 data\n",
    "books = [\n",
    "    ('The Weirdstone of Brisingamen', 'Alan Garner', 1960),\n",
    "    ('Perdido Street Station', 'China Miéville', 2000),\n",
    "    ('Thud!', 'Terry Pratchett', 2005),\n",
    "    ('The Spellman Files', 'Lisa Lutz', 2007),\n",
    "    ('Small Gods', 'Terry Pratchett', 1992)\n",
    "]\n",
    "\n",
    "cursor.executemany(\"INSERT INTO books VALUES (?, ?, ?)\", books)\n",
    "conn.commit()\n",
    "conn.close()"
   ]
  },
  {
   "cell_type": "markdown",
   "id": "5c85ad54-28c2-49e3-8d56-acd547b7dbae",
   "metadata": {},
   "source": [
    "# 16.8: Use the sqlalchemy module to connect to the sqlite3 database books.db that you just made in exercise 16.4. select and print the title column from the book table in alphabetical order."
   ]
  },
  {
   "cell_type": "code",
   "execution_count": 5,
   "id": "fa5d8d3d-9bed-491a-955d-76c35022ca78",
   "metadata": {},
   "outputs": [
    {
     "ename": "ModuleNotFoundError",
     "evalue": "No module named 'sqlalchemy'",
     "output_type": "error",
     "traceback": [
      "\u001b[31m---------------------------------------------------------------------------\u001b[39m",
      "\u001b[31mModuleNotFoundError\u001b[39m                       Traceback (most recent call last)",
      "\u001b[36mCell\u001b[39m\u001b[36m \u001b[39m\u001b[32mIn[5]\u001b[39m\u001b[32m, line 1\u001b[39m\n\u001b[32m----> \u001b[39m\u001b[32m1\u001b[39m \u001b[38;5;28;01mfrom\u001b[39;00m\u001b[38;5;250m \u001b[39m\u001b[34;01msqlalchemy\u001b[39;00m\u001b[38;5;250m \u001b[39m\u001b[38;5;28;01mimport\u001b[39;00m create_engine, MetaData, Table, select\n\u001b[32m      3\u001b[39m \u001b[38;5;66;03m# Connect using sqlalchemy\u001b[39;00m\n\u001b[32m      4\u001b[39m engine = create_engine(\u001b[33m'\u001b[39m\u001b[33msqlite:///books.db\u001b[39m\u001b[33m'\u001b[39m)\n",
      "\u001b[31mModuleNotFoundError\u001b[39m: No module named 'sqlalchemy'"
     ]
    }
   ],
   "source": [
    "from sqlalchemy import create_engine, MetaData, Table, select\n",
    "\n",
    "engine = create_engine('sqlite:///books.db')\n",
    "connection = engine.connect()\n",
    "metadata = MetaData()\n",
    "\n",
    "books = Table('books', metadata, autoload_with=engine)\n",
    "\n",
    "# Print selected titles in alphabetical order\n",
    "query = select(books.c.title).order_by(books.c.title)\n",
    "results = connection.execute(query)\n",
    "\n",
    "for row in results:\n",
    "    print(row.title)"
   ]
  },
  {
   "cell_type": "code",
   "execution_count": null,
   "id": "15923383-e1ad-4577-adf1-17aef34de192",
   "metadata": {},
   "outputs": [],
   "source": []
  }
 ],
 "metadata": {
  "kernelspec": {
   "display_name": "Python 3 (ipykernel)",
   "language": "python",
   "name": "python3"
  },
  "language_info": {
   "codemirror_mode": {
    "name": "ipython",
    "version": 3
   },
   "file_extension": ".py",
   "mimetype": "text/x-python",
   "name": "python",
   "nbconvert_exporter": "python",
   "pygments_lexer": "ipython3",
   "version": "3.13.3"
  }
 },
 "nbformat": 4,
 "nbformat_minor": 5
}
