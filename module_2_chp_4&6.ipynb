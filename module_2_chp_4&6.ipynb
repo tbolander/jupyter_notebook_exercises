{
 "cells": [
  {
   "cell_type": "markdown",
   "id": "b5ba1826-4138-43c1-8851-627515eafe1c",
   "metadata": {},
   "source": [
    "# 4.1: secret and guess variable comparison"
   ]
  },
  {
   "cell_type": "code",
   "execution_count": 1,
   "id": "12fbf0e4-62b8-43a5-a2eb-7c58db1f8da8",
   "metadata": {},
   "outputs": [
    {
     "name": "stdout",
     "output_type": "stream",
     "text": [
      "too high\n"
     ]
    }
   ],
   "source": [
    "secret = 3\n",
    "guess = 7\n",
    "\n",
    "if guess < secret:\n",
    "    print(\"too low\")\n",
    "elif guess > secret:\n",
    "    print(\"too high\")\n",
    "else:\n",
    "    print(\"you got it!\")"
   ]
  },
  {
   "cell_type": "markdown",
   "id": "623de373-99c3-465a-9269-64319dc851a5",
   "metadata": {},
   "source": [
    "# 4.2: assign True or False to different fruits"
   ]
  },
  {
   "cell_type": "code",
   "execution_count": 2,
   "id": "d7ffee3a-75f3-4901-9470-1f633c8be475",
   "metadata": {},
   "outputs": [
    {
     "name": "stdout",
     "output_type": "stream",
     "text": [
      "cherry\n"
     ]
    }
   ],
   "source": [
    "small = True\n",
    "green = False\n",
    "\n",
    "if not small and green:\n",
    "    print(\"watermelon\")\n",
    "elif small and not green:\n",
    "    print(\"cherry\")\n",
    "elif small and green:\n",
    "    print(\"pea\")\n",
    "else:\n",
    "    print(\"pumpkin\")"
   ]
  },
  {
   "cell_type": "markdown",
   "id": "7e70847b-0a94-4103-86c5-ece85b043378",
   "metadata": {},
   "source": [
    "# 6.1: for loop list"
   ]
  },
  {
   "cell_type": "code",
   "execution_count": 4,
   "id": "e22d9d85-a423-4a5e-99a9-3fd92300e33e",
   "metadata": {},
   "outputs": [
    {
     "name": "stdout",
     "output_type": "stream",
     "text": [
      "3\n",
      "2\n",
      "1\n",
      "0\n"
     ]
    }
   ],
   "source": [
    "numslist = [3, 2, 1, 0]\n",
    "\n",
    "for num in numslist:\n",
    "    print(num)"
   ]
  },
  {
   "cell_type": "markdown",
   "id": "e5d79c5c-6528-4457-9536-49a089605941",
   "metadata": {},
   "source": [
    "# 6.2: while loop comparison (number guessing iteration)"
   ]
  },
  {
   "cell_type": "code",
   "execution_count": 5,
   "id": "c5242666-074e-40f0-a1d2-e46773f15746",
   "metadata": {},
   "outputs": [
    {
     "name": "stdout",
     "output_type": "stream",
     "text": [
      "too low\n",
      "too low\n",
      "too low\n",
      "too low\n",
      "too low\n",
      "too low\n",
      "found it!\n"
     ]
    }
   ],
   "source": [
    "guess_me = 7\n",
    "number = 1\n",
    "\n",
    "while True:\n",
    "    if number < guess_me:\n",
    "        print(\"too low\")\n",
    "    elif number == guess_me:\n",
    "        print(\"found it!\")\n",
    "        break # found the number, exit the loop\n",
    "    else:\n",
    "        print(\"oops\")\n",
    "        break # number is > guess_me, exit the loop\n",
    "\n",
    "    number += 1"
   ]
  },
  {
   "cell_type": "markdown",
   "id": "9547d3a9-916e-4c06-861f-ec8bef5617bd",
   "metadata": {},
   "source": [
    "# 6.3: for loop with breaks"
   ]
  },
  {
   "cell_type": "code",
   "execution_count": null,
   "id": "b5b69eec-82e7-474d-91a0-b3adbe942e90",
   "metadata": {},
   "outputs": [],
   "source": [
    "guess_me = 5\n",
    "\n",
    "for number in range(10):\n",
    "    if number < guess_me:\n",
    "        print(\"too low\")\n",
    "    elif number == guess_me:\n",
    "        print(\"found it\")\n",
    "        break # found the number, exit the loop\n",
    "    else:\n",
    "        print(\"oops\")\n",
    "        break # number is > guess_me, exit the loop\n"
   ]
  }
 ],
 "metadata": {
  "kernelspec": {
   "display_name": "Python 3 (ipykernel)",
   "language": "python",
   "name": "python3"
  },
  "language_info": {
   "codemirror_mode": {
    "name": "ipython",
    "version": 3
   },
   "file_extension": ".py",
   "mimetype": "text/x-python",
   "name": "python",
   "nbconvert_exporter": "python",
   "pygments_lexer": "ipython3",
   "version": "3.13.1"
  }
 },
 "nbformat": 4,
 "nbformat_minor": 5
}
